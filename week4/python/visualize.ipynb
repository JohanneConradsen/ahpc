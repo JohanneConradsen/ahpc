{
 "cells": [
  {
   "cell_type": "code",
   "execution_count": null,
   "id": "22b87a6b",
   "metadata": {},
   "outputs": [],
   "source": [
    "import numpy as np\n",
    "import matplotlib.pyplot as plt\n",
    "from matplotlib.animation import FuncAnimation\n",
    "\n",
    "Nx = 256\n",
    "Ny = 256\n",
    "data = np.fromfile('sw_output.data', np.float32).reshape((-1, Nx, Ny))\n",
    "\n",
    "fig = plt.figure(figsize=(7,7))\n",
    "plot = plt.imshow(data[0], cmap='RdBu_r')\n",
    "colorbar = plt.colorbar()\n",
    "plt.close()\n",
    "def init():\n",
    "    plot.set_data(data[0])\n",
    "    return plot,\n",
    "\n",
    "def update(j):\n",
    "    plot.set_data(data[j])\n",
    "    if j % 100 == 1:\n",
    "        print(f\"rendered {j-1} frames\")\n",
    "    return plot,\n",
    "\n",
    "\n",
    "anim = FuncAnimation(fig, update, init_func = init, frames=len(data), interval = 100, blit=True)"
   ]
  },
  {
   "cell_type": "code",
   "execution_count": null,
   "id": "f80cdfce",
   "metadata": {},
   "outputs": [],
   "source": [
    "anim.save(\"video.gif\", bitrate=-1, dpi=100)"
   ]
  }
 ],
 "metadata": {
  "kernelspec": {
   "display_name": "base",
   "language": "python",
   "name": "python3"
  },
  "language_info": {
   "codemirror_mode": {
    "name": "ipython",
    "version": 3
   },
   "file_extension": ".py",
   "mimetype": "text/x-python",
   "name": "python",
   "nbconvert_exporter": "python",
   "pygments_lexer": "ipython3",
   "version": "3.8.19"
  }
 },
 "nbformat": 4,
 "nbformat_minor": 5
}
